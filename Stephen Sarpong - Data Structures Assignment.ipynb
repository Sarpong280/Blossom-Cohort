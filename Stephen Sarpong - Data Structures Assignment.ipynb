{
 "cells": [
  {
   "cell_type": "markdown",
   "id": "3c2e90df",
   "metadata": {},
   "source": [
    "# Q1\n",
    "\n",
    "Name the four built-in data structures in python. Give one examples for each\n",
    "\n",
    "List\n",
    "Tuple\n",
    "Set\n",
    "Dictionary"
   ]
  },
  {
   "cell_type": "markdown",
   "id": "b6e1dd1b",
   "metadata": {},
   "source": [
    "### Q2\n",
    "\n",
    "State two differences between a list and a tuple in Python.\n",
    "-A list is mutable and a tuple isn't\n",
    "-List is defined with '[]' and tuple is defined with '{}'"
   ]
  },
  {
   "cell_type": "markdown",
   "id": "815b4e67",
   "metadata": {},
   "source": [
    "### Q3\n",
    "Make a list containing names of five animals with a variable name `animal_list`\n",
    "\n",
    "Write a code for the following:\n",
    "- Print the first two animals\n",
    "- Print the last two animals\n",
    "- Add three extra animals to the variable `animal_list`\n",
    "- Remove the first two animals from the variable `animal_list`\n",
    "- How many animals are in the `animal_list`?\n",
    "- Create a variable animal_set which stores the set of animal_list \n",
    "- How many elements are in the animal_set?\n"
   ]
  },
  {
   "cell_type": "code",
   "execution_count": 5,
   "id": "9881db66",
   "metadata": {},
   "outputs": [
    {
     "name": "stdout",
     "output_type": "stream",
     "text": [
      "['dog', 'cat']\n",
      "['goat', 'chicken']\n",
      "6\n",
      "6\n"
     ]
    }
   ],
   "source": [
    "animal_list = ['dog', 'cat', 'lion', 'goat', 'chicken']\n",
    "\n",
    "print(animal_list[0:2])\n",
    "\n",
    "print(animal_list[3:])\n",
    "\n",
    "animal_list.extend(['ant', 'whale', 'fish'])\n",
    "\n",
    "animal_list.pop(0)\n",
    "animal_list.pop(0)\n",
    "\n",
    "print(len(animal_list))\n",
    "\n",
    "animal_set = set(animal_list)\n",
    "\n",
    "print(len(animal_set))"
   ]
  },
  {
   "cell_type": "markdown",
   "id": "113c9970",
   "metadata": {},
   "source": [
    "### Q4\n",
    "\n",
    "Given a list:\n",
    "\n",
    "suitcase = [\"sunglasses\", \"hat\", \"passport\", \"laptop\", \"suit\", \"shoes\"]\n",
    "\n",
    "a. Create a list called first containing only the two first items from suitcase.\n",
    "\n",
    "b. Create a list called middle containing only the two middle items from suitcase.\n",
    "\n",
    "c. Create a list called last made up only of the last two items from suitcase."
   ]
  },
  {
   "cell_type": "code",
   "execution_count": 3,
   "id": "ee33d498",
   "metadata": {},
   "outputs": [
    {
     "data": {
      "text/plain": [
       "['sunglasses', 'hat']"
      ]
     },
     "execution_count": 3,
     "metadata": {},
     "output_type": "execute_result"
    }
   ],
   "source": [
    "suitcase = [\"sunglasses\", \"hat\", \"passport\", \"laptop\", \"suit\", \"shoes\"]\n",
    "first = suitcase[0:2]\n",
    "first"
   ]
  },
  {
   "cell_type": "code",
   "execution_count": 4,
   "id": "ef9551cb",
   "metadata": {},
   "outputs": [
    {
     "data": {
      "text/plain": [
       "['passport', 'laptop']"
      ]
     },
     "execution_count": 4,
     "metadata": {},
     "output_type": "execute_result"
    }
   ],
   "source": [
    "middle = suitcase[2:4]\n",
    "middle"
   ]
  },
  {
   "cell_type": "code",
   "execution_count": 23,
   "id": "c8b7fead",
   "metadata": {},
   "outputs": [
    {
     "data": {
      "text/plain": [
       "['suit', 'shoes']"
      ]
     },
     "execution_count": 23,
     "metadata": {},
     "output_type": "execute_result"
    }
   ],
   "source": [
    "last = suitcase[4:]\n",
    "last"
   ]
  },
  {
   "cell_type": "markdown",
   "id": "711ba044",
   "metadata": {},
   "source": [
    "### Q5\n",
    "Write a python code to insert 35 into the list below. Make sure it is inserted in the right position to maintain the order of the data.\n",
    "\n",
    "`values = [20,25,30,40,45,50,55,60,65,70]`"
   ]
  },
  {
   "cell_type": "code",
   "execution_count": 7,
   "id": "ec9ed85a",
   "metadata": {},
   "outputs": [
    {
     "data": {
      "text/plain": [
       "[20, 25, 30, 35, 40, 45, 50, 55, 60, 65, 70]"
      ]
     },
     "execution_count": 7,
     "metadata": {},
     "output_type": "execute_result"
    }
   ],
   "source": [
    "values = [20,25,30,40,45,50,55,60,65,70]\n",
    "values.insert(3, 35)\n",
    "values"
   ]
  },
  {
   "cell_type": "markdown",
   "id": "f535cf64",
   "metadata": {},
   "source": [
    "### Q6\n",
    "\n",
    "Given that Python lists and Python tuples are quite similar – when might you prefer to use a tuple over a list?"
   ]
  },
  {
   "cell_type": "code",
   "execution_count": null,
   "id": "5d31bcad",
   "metadata": {},
   "outputs": [],
   "source": [
    "When I was to ensure there are no duplicates in the data"
   ]
  },
  {
   "cell_type": "markdown",
   "id": "346927f6",
   "metadata": {},
   "source": [
    "### Q7\n",
    "Create a dictionary with 5 Ghana regions and their capitals and store it in the variable `region_capital`\n",
    "\n",
    "- Print out the keys of region_capital\n",
    "- Print out the values of region_capital\n"
   ]
  },
  {
   "cell_type": "code",
   "execution_count": 16,
   "id": "344189b4",
   "metadata": {},
   "outputs": [
    {
     "name": "stdout",
     "output_type": "stream",
     "text": [
      "dict_keys(['Eastern', 'Volta', 'Ashanti', 'Nothern', 'Brong'])\n",
      "dict_values(['Koftown', 'Ho', 'Kumasi', 'Tamale', 'Sunyani'])\n"
     ]
    }
   ],
   "source": [
    "region_capital = {\"Eastern\":\"Koftown\", \"Volta\":\"Ho\", \"Ashanti\":\"Kumasi\", \"Nothern\":\"Tamale\", \"Brong\":\"Sunyani\"}\n",
    "print(region_capital.keys())\n",
    "print(region_capital.values())"
   ]
  },
  {
   "cell_type": "markdown",
   "id": "70526b3b",
   "metadata": {},
   "source": [
    "### Q8\n",
    "\n",
    "`values = [3,4,5,6,3,4,3,5,2,4,2,5,6,1,6]`\n",
    "\n",
    "Using the codes above answer the following questions:\n",
    "- What is the total number of elements in values?\n",
    "- What is the highest occuring number in the values variable?\n",
    "- Convert values into a set and store it into a variable named `values_set`\n",
    "- How many elements are in the variable values_set?\n"
   ]
  },
  {
   "cell_type": "code",
   "execution_count": 21,
   "id": "f8361ec0",
   "metadata": {},
   "outputs": [
    {
     "name": "stdout",
     "output_type": "stream",
     "text": [
      "15\n",
      "{1, 2, 3, 4, 5, 6}\n",
      "6\n"
     ]
    }
   ],
   "source": [
    "values = [3,4,5,6,3,4,3,5,2,4,2,5,6,1,6]\n",
    "print(len(values))\n",
    "\n",
    "values_set = set(values)\n",
    "print(values_set)\n",
    "\n",
    "print(len(values_set))\n",
    "print(type(vali))"
   ]
  },
  {
   "cell_type": "code",
   "execution_count": 44,
   "id": "fd6ce26b",
   "metadata": {},
   "outputs": [
    {
     "name": "stdout",
     "output_type": "stream",
     "text": [
      "Mode: 3\n"
     ]
    }
   ],
   "source": [
    "# MODE\n",
    "\n",
    "values = [3,4,5,6,3,4,3,5,2,4,2,5,6,1,6]\n",
    "values.sort()\n",
    "values.append(3)\n",
    "\n",
    "dict_11 = {}\n",
    "mode = None\n",
    "\n",
    "for num in values:\n",
    "    if num in dict_11:\n",
    "        dict_11[num] += 1\n",
    "    else:\n",
    "        dict_11[num] = 1\n",
    "\n",
    "max_dict_11 = max(dict_11.values())\n",
    "\n",
    "for key, value in dict_11.items():\n",
    "    if value ==max_dict_11:\n",
    "        mode = key\n",
    "\n",
    "print(\"Mode: \" + str(mode))\n",
    "   \n",
    "  "
   ]
  },
  {
   "cell_type": "markdown",
   "id": "801d5876",
   "metadata": {},
   "source": [
    "### Q9\n",
    "Write a Python script to print a dictionary where the keys are numbers between 1 and 15 (both included) and the values are the square of the keys."
   ]
  },
  {
   "cell_type": "code",
   "execution_count": 26,
   "id": "d8784335",
   "metadata": {},
   "outputs": [
    {
     "name": "stdout",
     "output_type": "stream",
     "text": [
      "{1: 1, 2: 4, 3: 9, 4: 16, 5: 25, 6: 36, 7: 49, 8: 64, 9: 81, 10: 100, 11: 121, 12: 144, 13: 169, 14: 196, 15: 225}\n"
     ]
    }
   ],
   "source": [
    "dict = {}\n",
    "for i in range(1,16):\n",
    "    dict[i] = i**2\n",
    "print(dict)"
   ]
  },
  {
   "cell_type": "markdown",
   "id": "18954e57",
   "metadata": {},
   "source": [
    "### Q10\n",
    "Write a Python program to create a dictionary of keys x, y, and z where each key has as value a list from 11-20, 21-30, and 31-40 respectively. Access the fifth value of each key from the dictionary."
   ]
  },
  {
   "cell_type": "code",
   "execution_count": 30,
   "id": "f259d2b3",
   "metadata": {},
   "outputs": [
    {
     "name": "stdout",
     "output_type": "stream",
     "text": [
      "{'x': [11, 12, 13, 14, 15, 16, 17, 18, 19, 20], 'y': [21, 22, 23, 24, 25, 26, 27, 28, 29, 30], 'z': [31, 32, 33, 34, 35, 36, 37, 38, 39, 40]}\n"
     ]
    }
   ],
   "source": [
    "dict = {}\n",
    "\n",
    "x = []\n",
    "for i in range(11,21):\n",
    "    x.append(i)\n",
    "dict['x'] = x\n",
    "\n",
    "y = []\n",
    "for i in range(21,31):\n",
    "    y.append(i)\n",
    "dict['y'] = y\n",
    "\n",
    "z = []\n",
    "for i in range(31,41):\n",
    "    z.append(i)\n",
    "dict['z'] = z\n",
    "print(dict)"
   ]
  },
  {
   "cell_type": "code",
   "execution_count": null,
   "id": "fec19820",
   "metadata": {},
   "outputs": [],
   "source": []
  }
 ],
 "metadata": {
  "kernelspec": {
   "display_name": "Python 3 (ipykernel)",
   "language": "python",
   "name": "python3"
  },
  "language_info": {
   "codemirror_mode": {
    "name": "ipython",
    "version": 3
   },
   "file_extension": ".py",
   "mimetype": "text/x-python",
   "name": "python",
   "nbconvert_exporter": "python",
   "pygments_lexer": "ipython3",
   "version": "3.9.13"
  }
 },
 "nbformat": 4,
 "nbformat_minor": 5
}
