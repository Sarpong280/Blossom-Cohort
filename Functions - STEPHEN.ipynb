{
 "cells": [
  {
   "cell_type": "markdown",
   "id": "39a3df13",
   "metadata": {},
   "source": [
    "## Functions Assignment"
   ]
  },
  {
   "cell_type": "markdown",
   "id": "352dd2e3",
   "metadata": {},
   "source": [
    "### Q1\n",
    "\n",
    "Define a python function that calculate the perimeter of the rectangle\n",
    "\n",
    "Formular\n",
    "\n",
    "formular => 2 X length + 2 X Width"
   ]
  },
  {
   "cell_type": "code",
   "execution_count": 1,
   "id": "bae460f7",
   "metadata": {},
   "outputs": [],
   "source": [
    "def perimeter(length, width):\n",
    "    a= (2 * length) + (2 * width)\n",
    "    print(f'The Perimeter of the rectangle is with length {length}cm and width {width}cm  is {a}cm')\n",
    "    \n"
   ]
  },
  {
   "cell_type": "code",
   "execution_count": 2,
   "id": "9269b1cf",
   "metadata": {},
   "outputs": [
    {
     "name": "stdout",
     "output_type": "stream",
     "text": [
      "The Perimeter of the rectangle is with length 2cm and width 6cm  is 16cm\n"
     ]
    }
   ],
   "source": [
    "#passing the length and width to the function perimeter\n",
    "perimeter(2,6)\n"
   ]
  },
  {
   "cell_type": "markdown",
   "id": "a56ccec8",
   "metadata": {},
   "source": [
    "### Q2\n",
    "Define the function to calculate the area of a circle. Round the answer to 3 decimal places.\n",
    "\n",
    "**Preamble**\n",
    " - Take pi as 22/7\n",
    " - formular pi x r ** 2"
   ]
  },
  {
   "cell_type": "code",
   "execution_count": 3,
   "id": "02327525",
   "metadata": {},
   "outputs": [],
   "source": [
    "def AreaOfCircle(raduis):\n",
    "    pi=22/7\n",
    "    area= round(pi*(raduis **2),3)\n",
    "    print(f'The area of a circle with radius {raduis}cm is {area} cm^2')\n",
    "    \n"
   ]
  },
  {
   "cell_type": "code",
   "execution_count": 4,
   "id": "846ff112",
   "metadata": {},
   "outputs": [
    {
     "name": "stdout",
     "output_type": "stream",
     "text": [
      "The area of a circle with radius 7cm is 154.0 cm^2\n"
     ]
    }
   ],
   "source": [
    "#passing raduis to the function AreaOfCircle\n",
    "AreaOfCircle(7)"
   ]
  },
  {
   "cell_type": "markdown",
   "id": "be5a6965",
   "metadata": {},
   "source": [
    "### Q3\n",
    "Define a function that takes a list of numbers and print out the **mean**, **median** and **mode**.\n",
    "\n",
    "- Test your function with the list b\n",
    "\n",
    "`b = [2,3,4,6,7,3,4,3,2,1,3]`"
   ]
  },
  {
   "cell_type": "code",
   "execution_count": 5,
   "id": "a32fa4c0",
   "metadata": {},
   "outputs": [],
   "source": [
    "b = [2,3,4,6,7,3,4,3,2,1,3]"
   ]
  },
  {
   "cell_type": "code",
   "execution_count": 6,
   "id": "d33a59d8",
   "metadata": {},
   "outputs": [
    {
     "name": "stdout",
     "output_type": "stream",
     "text": [
      "Mean : 3.4545454545454546\n"
     ]
    }
   ],
   "source": [
    "# calculating the mean of b\n",
    "def mean(b):\n",
    "    return sum(b) / len(b)\n",
    "\n",
    "print(f'Mean : {mean(b)}')"
   ]
  },
  {
   "cell_type": "code",
   "execution_count": 7,
   "id": "41e57d8c",
   "metadata": {},
   "outputs": [
    {
     "name": "stdout",
     "output_type": "stream",
     "text": [
      "Median: 3\n"
     ]
    }
   ],
   "source": [
    "# calculating the median of b\n",
    "def median(b):\n",
    "    return sorted(b)[len(b) // 2]\n",
    "\n",
    "print(f'Median: {median(b)}')"
   ]
  },
  {
   "cell_type": "code",
   "execution_count": 8,
   "id": "26250bc9",
   "metadata": {},
   "outputs": [
    {
     "name": "stdout",
     "output_type": "stream",
     "text": [
      "Mode: 3\n"
     ]
    }
   ],
   "source": [
    "# calculating the mode of b\n",
    "def mode(b):\n",
    "    return max(b, key = b.count)\n",
    "\n",
    "print(f'Mode: {mode(b)}')"
   ]
  },
  {
   "cell_type": "markdown",
   "id": "3313ab10",
   "metadata": {},
   "source": [
    "### Q4\n",
    "Define a function that prints out the list of the first 20 prime numbers"
   ]
  },
  {
   "cell_type": "code",
   "execution_count": 9,
   "id": "ab12bdd0",
   "metadata": {},
   "outputs": [
    {
     "name": "stdout",
     "output_type": "stream",
     "text": [
      "[2, 3, 5, 7, 11, 13, 17, 19, 23, 29, 31, 37, 41, 43, 47, 53, 59, 61, 67, 71]\n"
     ]
    }
   ],
   "source": [
    "def first_20_primes():\n",
    "    primes = []  # list to store prime numbers\n",
    "    num = 2  # start checking for primes from 2\n",
    "    while len(primes) < 20:\n",
    "        is_prime = True\n",
    "        for i in range(2, int(num ** 0.5) + 1):\n",
    "            if num % i == 0:\n",
    "                is_prime = False\n",
    "                break\n",
    "        if is_prime:\n",
    "            primes.append(num)\n",
    "        num += 1\n",
    "    print(primes)\n",
    "    \n",
    "first_20_primes()"
   ]
  },
  {
   "cell_type": "markdown",
   "id": "ef1c5863",
   "metadata": {},
   "source": [
    "#### Q5\n",
    "Define a function that takes a list of strings and print out the string and the length of the string.\n",
    "\n",
    "**Example of expected output**\n",
    "\n",
    "{\"Kofi\":4,\n",
    "\"Ama\":3,\n",
    "\"Sedem\":5}"
   ]
  },
  {
   "cell_type": "code",
   "execution_count": 10,
   "id": "1f853c83",
   "metadata": {},
   "outputs": [],
   "source": [
    "  \n",
    "def string_length(string):\n",
    "    a={}\n",
    "    for i in string:\n",
    "        a.update({i:len(i)})\n",
    "    return  a\n",
    "        "
   ]
  },
  {
   "cell_type": "code",
   "execution_count": 11,
   "id": "cfc8dba4",
   "metadata": {},
   "outputs": [
    {
     "data": {
      "text/plain": [
       "{'Kofi': 4, 'Ama': 3, 'Sedem': 5}"
      ]
     },
     "execution_count": 11,
     "metadata": {},
     "output_type": "execute_result"
    }
   ],
   "source": [
    "Lt = [\"Kofi\",\"Ama\",\"Sedem\"]\n",
    "string_length(Lt)"
   ]
  },
  {
   "cell_type": "markdown",
   "id": "5072c8d8",
   "metadata": {},
   "source": [
    "### Q6\n",
    "Define a function that takes a list of strings and numbers and print out only the strings and the position of the strings.\n",
    "\n",
    "**Preamble**\n",
    "\n",
    "names = ['sedem', 'Kofi', 'kobla']\n",
    "\n",
    "**Expected Output**\n",
    "\n",
    "{'sedem': P0, 'Kofi': P1, 'kobla': P2}"
   ]
  },
  {
   "cell_type": "code",
   "execution_count": 12,
   "id": "6a7768ea",
   "metadata": {},
   "outputs": [],
   "source": [
    "def string_position(lists):\n",
    "    word={}\n",
    "    for index, value in enumerate(lists):\n",
    "        if type(value) == str:\n",
    "            word.update({value : index})\n",
    "    return word\n"
   ]
  },
  {
   "cell_type": "code",
   "execution_count": 13,
   "id": "e23e2f7c",
   "metadata": {},
   "outputs": [
    {
     "data": {
      "text/plain": [
       "{'sedem': 0, 'Kofi': 2, 'kobla': 4}"
      ]
     },
     "execution_count": 13,
     "metadata": {},
     "output_type": "execute_result"
    }
   ],
   "source": [
    "ls =['sedem',6, 'Kofi',9, 'kobla',27]\n",
    "string_position(ls)"
   ]
  },
  {
   "cell_type": "markdown",
   "id": "5593b665",
   "metadata": {},
   "source": [
    "### Q7\n",
    "Define a function that returns whether the sum of a person age and person's date of birth equals 2023\n",
    "\n",
    "**Preamble**\n",
    "\n",
    "2001 + 22 => True\n",
    "\n",
    "2002 + 5 => False"
   ]
  },
  {
   "cell_type": "code",
   "execution_count": 14,
   "id": "b8463aab",
   "metadata": {},
   "outputs": [],
   "source": [
    "def BirthyearAge(year, age):\n",
    "    print(f' {year} + {age} => {age + year == 2023}')\n",
    "   "
   ]
  },
  {
   "cell_type": "code",
   "execution_count": 15,
   "id": "6cd15d18",
   "metadata": {},
   "outputs": [
    {
     "name": "stdout",
     "output_type": "stream",
     "text": [
      " 2002 + 5 => False\n"
     ]
    }
   ],
   "source": [
    "BirthyearAge(2002,5)"
   ]
  },
  {
   "cell_type": "markdown",
   "id": "f831e652",
   "metadata": {},
   "source": [
    "### Q8\n",
    "Define a function that determine whether a particular year is a **decade**, the output should be a boolean (True or False)\n"
   ]
  },
  {
   "cell_type": "code",
   "execution_count": 16,
   "id": "b649d9d0",
   "metadata": {},
   "outputs": [],
   "source": [
    "def decade(year):\n",
    "    if year%10 == 0:\n",
    "        return True\n",
    "    else:\n",
    "        return False"
   ]
  },
  {
   "cell_type": "code",
   "execution_count": 17,
   "id": "10f9d245",
   "metadata": {},
   "outputs": [
    {
     "data": {
      "text/plain": [
       "False"
      ]
     },
     "execution_count": 17,
     "metadata": {},
     "output_type": "execute_result"
    }
   ],
   "source": [
    "decade(2019)"
   ]
  },
  {
   "cell_type": "markdown",
   "id": "211c19e3",
   "metadata": {},
   "source": [
    "### Q9\n",
    "Define a function that contains a list of strings and punctuations,the output should on return the list of punctuations.\n"
   ]
  },
  {
   "cell_type": "code",
   "execution_count": 18,
   "id": "e49ba408",
   "metadata": {},
   "outputs": [],
   "source": [
    "def punctuations(lists):\n",
    "    a=[]\n",
    "    for item in lists:\n",
    "        if not item.isalpha():   #if item is not an alphabet ,append to the list a\n",
    "            a.append(item)        \n",
    "    return a        \n",
    "    "
   ]
  },
  {
   "cell_type": "code",
   "execution_count": 19,
   "id": "a8ce8cac",
   "metadata": {},
   "outputs": [
    {
     "data": {
      "text/plain": [
       "['@', '&', '*']"
      ]
     },
     "execution_count": 19,
     "metadata": {},
     "output_type": "execute_result"
    }
   ],
   "source": [
    "sample=['Emefa', '@','&','Duah','*']\n",
    "punctuations(sample)"
   ]
  },
  {
   "cell_type": "markdown",
   "id": "34bae9ec",
   "metadata": {},
   "source": [
    "### Q10\n",
    "\n",
    "Define a lambda function that print out the cubic root of a list of numbers"
   ]
  },
  {
   "cell_type": "code",
   "execution_count": 20,
   "id": "a8c6f464",
   "metadata": {},
   "outputs": [],
   "source": [
    "CubicRoot = lambda lists:[round(x**(1/3),2) for x in lists]"
   ]
  },
  {
   "cell_type": "code",
   "execution_count": 21,
   "id": "c3349d54",
   "metadata": {},
   "outputs": [
    {
     "data": {
      "text/plain": [
       "[1.26, 1.71, 1.91, 2.0, 1.0, 1.44]"
      ]
     },
     "execution_count": 21,
     "metadata": {},
     "output_type": "execute_result"
    }
   ],
   "source": [
    "ls=[2,5,7,8,1,3]\n",
    "CubicRoot(ls)"
   ]
  },
  {
   "cell_type": "markdown",
   "id": "37974632",
   "metadata": {},
   "source": [
    "### Q11\n",
    "Define a lambda function that print out the cube of a list of numbers"
   ]
  },
  {
   "cell_type": "code",
   "execution_count": 22,
   "id": "15a1a2e2",
   "metadata": {},
   "outputs": [],
   "source": [
    "Cube = lambda lists:[x**3 for x in lists]"
   ]
  },
  {
   "cell_type": "code",
   "execution_count": 23,
   "id": "f58d6a72",
   "metadata": {},
   "outputs": [
    {
     "data": {
      "text/plain": [
       "[8, 125, 343, 512, 1, 27]"
      ]
     },
     "execution_count": 23,
     "metadata": {},
     "output_type": "execute_result"
    }
   ],
   "source": [
    "ls=[2,5,7,8,1,3]\n",
    "Cube(ls)"
   ]
  },
  {
   "cell_type": "markdown",
   "id": "b1522dbb",
   "metadata": {},
   "source": [
    "### Q12\n",
    "Define a function that take a list of list of numbers and return a list that contains the average of each sublist using map."
   ]
  },
  {
   "cell_type": "code",
   "execution_count": 24,
   "id": "01e27661",
   "metadata": {},
   "outputs": [],
   "source": [
    "def Average(Lists):\n",
    "    mean =sum(Lists)/len(Lists)\n",
    "    return round(mean,2)\n",
    "    "
   ]
  },
  {
   "cell_type": "code",
   "execution_count": 25,
   "id": "b2f42bd2",
   "metadata": {},
   "outputs": [
    {
     "name": "stdout",
     "output_type": "stream",
     "text": [
      "[5.33, 2.67, 3.67]\n"
     ]
    }
   ],
   "source": [
    "numbers =[[2,5,9],[5,2,1],[1,7,3]]\n",
    "print(list(map(Average,numbers)))"
   ]
  },
  {
   "cell_type": "markdown",
   "id": "0fd5cd06",
   "metadata": {},
   "source": [
    "### Q13\n",
    "Define a function that takes a list of strings and filter out strings that are upper case."
   ]
  },
  {
   "cell_type": "code",
   "execution_count": 26,
   "id": "fec3c6d5",
   "metadata": {},
   "outputs": [],
   "source": [
    "def Upper(lis):\n",
    "    c=[]\n",
    "    for item in lis:\n",
    "        if item.isupper(): ##if item has upper case letter append to list c\n",
    "            c.append(item)\n",
    "    return c"
   ]
  },
  {
   "cell_type": "code",
   "execution_count": 27,
   "id": "77615664",
   "metadata": {},
   "outputs": [
    {
     "data": {
      "text/plain": [
       "['APPIAH', 'ACCT']"
      ]
     },
     "execution_count": 27,
     "metadata": {},
     "output_type": "execute_result"
    }
   ],
   "source": [
    "strings=[\"Kwame\",\"APPIAH\",\"degree\",\"ACCT\",\"Masters\"]\n",
    "Upper(strings)"
   ]
  },
  {
   "cell_type": "markdown",
   "id": "d0dddd17",
   "metadata": {},
   "source": [
    "### Q14\n",
    "Define a function that takes a list of numbers and print out the numbers which are prime in the list."
   ]
  },
  {
   "cell_type": "code",
   "execution_count": 28,
   "id": "2e544843",
   "metadata": {},
   "outputs": [],
   "source": [
    "\n",
    "def prime_checker(list_1):\n",
    "    prime_list=[]\n",
    "    for num in list_1:\n",
    "        for i in range(2,num):\n",
    "            if num % i == 0:\n",
    "                break\n",
    "        else:\n",
    "            prime_list.append(num)\n",
    "    return prime_list"
   ]
  },
  {
   "cell_type": "code",
   "execution_count": 29,
   "id": "e11f6b80",
   "metadata": {},
   "outputs": [
    {
     "data": {
      "text/plain": [
       "[2, 3, 5, 7, 11, 13, 17, 19, 23, 29, 31, 37, 41, 43, 47]"
      ]
     },
     "execution_count": 29,
     "metadata": {},
     "output_type": "execute_result"
    }
   ],
   "source": [
    "prime_checker(range(2,50))"
   ]
  },
  {
   "cell_type": "markdown",
   "id": "240741dc",
   "metadata": {},
   "source": [
    "### Q15\n",
    "Define a function that take a list of strings and return a zip of each string and length of a string."
   ]
  },
  {
   "cell_type": "code",
   "execution_count": 30,
   "id": "47c504a1",
   "metadata": {},
   "outputs": [],
   "source": [
    "def StringZipper(lists_2):\n",
    "    zipped=zip(lists_2,map(len,lists_2))\n",
    "    for zipp in zipped:\n",
    "        print(zipp)"
   ]
  },
  {
   "cell_type": "code",
   "execution_count": 31,
   "id": "4fbbf48e",
   "metadata": {},
   "outputs": [
    {
     "name": "stdout",
     "output_type": "stream",
     "text": [
      "('Live', 4)\n",
      "('Love', 4)\n",
      "('Eat', 3)\n"
     ]
    }
   ],
   "source": [
    "strings=[\"Live\",\"Love\",\"Eat\"]\n",
    "StringZipper(strings)"
   ]
  },
  {
   "cell_type": "markdown",
   "id": "44a1339f",
   "metadata": {},
   "source": [
    "### Q16\n",
    "Define a function that takes in a number and return the first 12 multiples of the the number.\n",
    "\n",
    "Expected Output\n",
    "\n",
    "2 X 1 = 2\n",
    "\n",
    "to\n",
    "\n",
    "2 X 12 = 24"
   ]
  },
  {
   "cell_type": "code",
   "execution_count": 32,
   "id": "7ac9eb9b",
   "metadata": {},
   "outputs": [],
   "source": [
    "def TimesTable(number):\n",
    "    for i in range(1,13):\n",
    "        print(f'{number} X {i} = {number*i}')"
   ]
  },
  {
   "cell_type": "code",
   "execution_count": 33,
   "id": "5d9b9921",
   "metadata": {},
   "outputs": [
    {
     "name": "stdout",
     "output_type": "stream",
     "text": [
      "4 X 1 = 4\n",
      "4 X 2 = 8\n",
      "4 X 3 = 12\n",
      "4 X 4 = 16\n",
      "4 X 5 = 20\n",
      "4 X 6 = 24\n",
      "4 X 7 = 28\n",
      "4 X 8 = 32\n",
      "4 X 9 = 36\n",
      "4 X 10 = 40\n",
      "4 X 11 = 44\n",
      "4 X 12 = 48\n"
     ]
    }
   ],
   "source": [
    "TimesTable(4)"
   ]
  },
  {
   "cell_type": "markdown",
   "id": "cd63dd99",
   "metadata": {},
   "source": [
    "### Q17\n",
    "Write a Python function to find the maximum of three numbers.\n",
    "\n",
    "**Do not use the max function**"
   ]
  },
  {
   "cell_type": "code",
   "execution_count": 34,
   "id": "d6d309ae",
   "metadata": {},
   "outputs": [],
   "source": [
    "def Maximum(a,b,c):\n",
    "    ls=[a,b,c]\n",
    "    print (f'The maximum of {ls} is {sorted(ls)[2]}')  ##this sorts the list ls and position 2 is the highest"
   ]
  },
  {
   "cell_type": "code",
   "execution_count": 35,
   "id": "2cdcf6b7",
   "metadata": {},
   "outputs": [
    {
     "name": "stdout",
     "output_type": "stream",
     "text": [
      "The maximum of [2, 6, 9] is 9\n"
     ]
    }
   ],
   "source": [
    "Maximum(2,6,9)"
   ]
  },
  {
   "cell_type": "markdown",
   "id": "67520c0b",
   "metadata": {},
   "source": [
    "### Q18\n",
    "Write a Python function to multiply all the numbers in a list."
   ]
  },
  {
   "cell_type": "code",
   "execution_count": 36,
   "id": "400e897b",
   "metadata": {},
   "outputs": [],
   "source": [
    "def Multiply_list(Lists_3):\n",
    "    l=1\n",
    "    for i in Lists_3:\n",
    "        l*= i\n",
    "    print(f' The Product of numbers = {l}' )"
   ]
  },
  {
   "cell_type": "code",
   "execution_count": 37,
   "id": "ff109b03",
   "metadata": {},
   "outputs": [
    {
     "name": "stdout",
     "output_type": "stream",
     "text": [
      " The Product of numbers = 108\n"
     ]
    }
   ],
   "source": [
    "Multiply_list([2,6,9])"
   ]
  },
  {
   "cell_type": "markdown",
   "id": "05891582",
   "metadata": {},
   "source": [
    "### Q19\n",
    "Write a Python program to reverse a string"
   ]
  },
  {
   "cell_type": "code",
   "execution_count": 38,
   "id": "fb4d4d29",
   "metadata": {},
   "outputs": [],
   "source": [
    "def Reverse(string):\n",
    "    return  string[::-1]"
   ]
  },
  {
   "cell_type": "code",
   "execution_count": 39,
   "id": "9e27050b",
   "metadata": {},
   "outputs": [
    {
     "data": {
      "text/plain": [
       "'emawK'"
      ]
     },
     "execution_count": 39,
     "metadata": {},
     "output_type": "execute_result"
    }
   ],
   "source": [
    "Reverse('Kwame')"
   ]
  },
  {
   "cell_type": "markdown",
   "id": "b9025ac8",
   "metadata": {},
   "source": [
    "### Q20\n",
    "Write a python function to return the length of a string."
   ]
  },
  {
   "cell_type": "code",
   "execution_count": 40,
   "id": "5d8f330f",
   "metadata": {},
   "outputs": [],
   "source": [
    "def LengthOfString(strg):\n",
    "    return len(strg)"
   ]
  },
  {
   "cell_type": "code",
   "execution_count": 41,
   "id": "2f3e248e",
   "metadata": {},
   "outputs": [
    {
     "data": {
      "text/plain": [
       "5"
      ]
     },
     "execution_count": 41,
     "metadata": {},
     "output_type": "execute_result"
    }
   ],
   "source": [
    "LengthOfString('Weird')"
   ]
  },
  {
   "cell_type": "markdown",
   "id": "8d1ee176",
   "metadata": {},
   "source": [
    "Have a lovely coding weekend"
   ]
  }
 ],
 "metadata": {
  "kernelspec": {
   "display_name": "Python 3 (ipykernel)",
   "language": "python",
   "name": "python3"
  },
  "language_info": {
   "codemirror_mode": {
    "name": "ipython",
    "version": 3
   },
   "file_extension": ".py",
   "mimetype": "text/x-python",
   "name": "python",
   "nbconvert_exporter": "python",
   "pygments_lexer": "ipython3",
   "version": "3.9.13"
  }
 },
 "nbformat": 4,
 "nbformat_minor": 5
}
